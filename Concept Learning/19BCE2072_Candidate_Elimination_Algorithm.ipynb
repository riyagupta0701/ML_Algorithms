{
 "cells": [
  {
   "cell_type": "code",
   "execution_count": 1,
   "id": "d0686939",
   "metadata": {},
   "outputs": [],
   "source": [
    "import numpy as np \n",
    "import pandas as pd"
   ]
  },
  {
   "cell_type": "code",
   "execution_count": 2,
   "id": "727ec431",
   "metadata": {},
   "outputs": [
    {
     "data": {
      "text/html": [
       "<div>\n",
       "<style scoped>\n",
       "    .dataframe tbody tr th:only-of-type {\n",
       "        vertical-align: middle;\n",
       "    }\n",
       "\n",
       "    .dataframe tbody tr th {\n",
       "        vertical-align: top;\n",
       "    }\n",
       "\n",
       "    .dataframe thead th {\n",
       "        text-align: right;\n",
       "    }\n",
       "</style>\n",
       "<table border=\"1\" class=\"dataframe\">\n",
       "  <thead>\n",
       "    <tr style=\"text-align: right;\">\n",
       "      <th></th>\n",
       "      <th>Origin</th>\n",
       "      <th>Manufacturer</th>\n",
       "      <th>Colour</th>\n",
       "      <th>Type</th>\n",
       "      <th>Decision</th>\n",
       "    </tr>\n",
       "  </thead>\n",
       "  <tbody>\n",
       "    <tr>\n",
       "      <th>0</th>\n",
       "      <td>Japan</td>\n",
       "      <td>Honda</td>\n",
       "      <td>Blue</td>\n",
       "      <td>Economy</td>\n",
       "      <td>Yes</td>\n",
       "    </tr>\n",
       "    <tr>\n",
       "      <th>1</th>\n",
       "      <td>Japan</td>\n",
       "      <td>Honda</td>\n",
       "      <td>White</td>\n",
       "      <td>Economy</td>\n",
       "      <td>Yes</td>\n",
       "    </tr>\n",
       "    <tr>\n",
       "      <th>2</th>\n",
       "      <td>USA</td>\n",
       "      <td>Honda</td>\n",
       "      <td>Blue</td>\n",
       "      <td>Sports</td>\n",
       "      <td>No</td>\n",
       "    </tr>\n",
       "    <tr>\n",
       "      <th>3</th>\n",
       "      <td>Japan</td>\n",
       "      <td>Toyota</td>\n",
       "      <td>Blue</td>\n",
       "      <td>Economy</td>\n",
       "      <td>Yes</td>\n",
       "    </tr>\n",
       "  </tbody>\n",
       "</table>\n",
       "</div>"
      ],
      "text/plain": [
       "  Origin Manufacturer Colour     Type Decision\n",
       "0  Japan        Honda   Blue  Economy      Yes\n",
       "1  Japan        Honda  White  Economy      Yes\n",
       "2    USA        Honda   Blue   Sports       No\n",
       "3  Japan       Toyota   Blue  Economy      Yes"
      ]
     },
     "execution_count": 2,
     "metadata": {},
     "output_type": "execute_result"
    }
   ],
   "source": [
    "data = pd.read_csv('q3.csv')\n",
    "data"
   ]
  },
  {
   "cell_type": "code",
   "execution_count": 3,
   "id": "880ddbec",
   "metadata": {},
   "outputs": [
    {
     "name": "stdout",
     "output_type": "stream",
     "text": [
      "\n",
      "Instances are:\n",
      " [['Japan' 'Honda' 'Blue' 'Economy']\n",
      " ['Japan' 'Honda' 'White' 'Economy']\n",
      " ['USA' 'Honda' 'Blue' 'Sports']\n",
      " ['Japan' 'Toyota' 'Blue' 'Economy']]\n"
     ]
    }
   ],
   "source": [
    "instances = np.array(data.iloc[:,0:-1])\n",
    "print(\"\\nInstances are:\\n\",instances)"
   ]
  },
  {
   "cell_type": "code",
   "execution_count": 4,
   "id": "272e84df",
   "metadata": {},
   "outputs": [
    {
     "name": "stdout",
     "output_type": "stream",
     "text": [
      "\n",
      "Target Values are:  ['Yes' 'Yes' 'No' 'Yes']\n"
     ]
    }
   ],
   "source": [
    "target = np.array(data.iloc[:,-1])\n",
    "print(\"\\nTarget Values are: \",target)"
   ]
  },
  {
   "cell_type": "code",
   "execution_count": 5,
   "id": "9d52bef2",
   "metadata": {},
   "outputs": [
    {
     "name": "stdout",
     "output_type": "stream",
     "text": [
      "\n",
      "Initialization of specific_h and genearal_h\n",
      "\n",
      "Specific Boundary:  ['Japan' 'Honda' 'Blue' 'Economy']\n",
      "\n",
      "Generic Boundary:  [['?', '?', '?', '?'], ['?', '?', '?', '?'], ['?', '?', '?', '?'], ['?', '?', '?', '?']]\n",
      "\n",
      "--------------------------------------------------------------------------------\n",
      "\n",
      "Instance 1 is  ['Japan' 'Honda' 'Blue' 'Economy']\n",
      "Instance is Positive \n",
      "\n",
      "Specific Bundary after  1 Instance is  ['Japan' 'Honda' 'Blue' 'Economy']\n",
      "Generic Boundary after  1 Instance is  [['?', '?', '?', '?'], ['?', '?', '?', '?'], ['?', '?', '?', '?'], ['?', '?', '?', '?']]\n",
      "\n",
      "--------------------------------------------------------------------------------\n",
      "\n",
      "Instance 2 is  ['Japan' 'Honda' 'White' 'Economy']\n",
      "Instance is Positive \n",
      "\n",
      "Specific Bundary after  2 Instance is  ['Japan' 'Honda' '?' 'Economy']\n",
      "Generic Boundary after  2 Instance is  [['?', '?', '?', '?'], ['?', '?', '?', '?'], ['?', '?', '?', '?'], ['?', '?', '?', '?']]\n",
      "\n",
      "--------------------------------------------------------------------------------\n",
      "\n",
      "Instance 3 is  ['USA' 'Honda' 'Blue' 'Sports']\n",
      "Instance is Negative \n",
      "\n",
      "Specific Bundary after  3 Instance is  ['Japan' 'Honda' '?' 'Economy']\n",
      "Generic Boundary after  3 Instance is  [['Japan', '?', '?', '?'], ['?', '?', '?', '?'], ['?', '?', '?', '?'], ['?', '?', '?', 'Economy']]\n",
      "\n",
      "--------------------------------------------------------------------------------\n",
      "\n",
      "Instance 4 is  ['Japan' 'Toyota' 'Blue' 'Economy']\n",
      "Instance is Positive \n",
      "\n",
      "Specific Bundary after  4 Instance is  ['Japan' '?' '?' 'Economy']\n",
      "Generic Boundary after  4 Instance is  [['Japan', '?', '?', '?'], ['?', '?', '?', '?'], ['?', '?', '?', '?'], ['?', '?', '?', 'Economy']]\n",
      "\n",
      "--------------------------------------------------------------------------------\n",
      "Final Specific_h: \n",
      "\n",
      "['Japan' '?' '?' 'Economy']\n",
      "\n",
      "Final General_h: \n",
      "\n",
      "[['Japan', '?', '?', '?'], ['?', '?', '?', '?'], ['?', '?', '?', '?'], ['?', '?', '?', 'Economy']]\n"
     ]
    }
   ],
   "source": [
    "def learn(instances, target): \n",
    "    specific_h = instances[0].copy()\n",
    "    print(\"\\nInitialization of specific_h and genearal_h\")\n",
    "    print(\"\\nSpecific Boundary: \", specific_h)\n",
    "    general_h = [[\"?\" for i in range(len(specific_h))] for i in range(len(specific_h))]\n",
    "    print(\"\\nGeneric Boundary: \",general_h)\n",
    "    print(\"\\n--------------------------------------------------------------------------------\")\n",
    "\n",
    "    for i, h in enumerate(instances):\n",
    "        print(\"\\nInstance\", i+1 , \"is \", h)\n",
    "        \n",
    "        if target[i] == \"Yes\":\n",
    "            print(\"Instance is Positive \")\n",
    "            for x in range(len(specific_h)): \n",
    "                if h[x]!= specific_h[x]:                    \n",
    "                    specific_h[x] ='?'                     \n",
    "                    general_h[x][x] ='?'\n",
    "                   \n",
    "        if target[i] == \"No\":            \n",
    "            print(\"Instance is Negative \")\n",
    "            for x in range(len(specific_h)): \n",
    "                if h[x]!= specific_h[x]:                    \n",
    "                    general_h[x][x] = specific_h[x]                \n",
    "                else:                    \n",
    "                    general_h[x][x] = '?'        \n",
    "        \n",
    "        print(\"\\nSpecific Bundary after \", i+1, \"Instance is \", specific_h)         \n",
    "        print(\"Generic Boundary after \", i+1, \"Instance is \", general_h)\n",
    "        print(\"\\n--------------------------------------------------------------------------------\")\n",
    "\n",
    "    indices = [i for i, val in enumerate(general_h) if val == ['?', '?', '?', '?', '?', '?']]    \n",
    "    for i in indices:   \n",
    "        general_h.remove(['?', '?', '?', '?', '?', '?']) \n",
    "    return specific_h, general_h \n",
    "\n",
    "s_final, g_final = learn(instances, target)\n",
    "\n",
    "print(\"Final Specific_h: \", s_final, sep=\"\\n\\n\")\n",
    "print(\"\\nFinal General_h: \", g_final, sep=\"\\n\\n\")\n"
   ]
  },
  {
   "cell_type": "code",
   "execution_count": null,
   "id": "19d6919a",
   "metadata": {},
   "outputs": [],
   "source": []
  },
  {
   "cell_type": "code",
   "execution_count": null,
   "id": "967fc99a",
   "metadata": {},
   "outputs": [],
   "source": []
  }
 ],
 "metadata": {
  "kernelspec": {
   "display_name": "Python 3",
   "language": "python",
   "name": "python3"
  },
  "language_info": {
   "codemirror_mode": {
    "name": "ipython",
    "version": 3
   },
   "file_extension": ".py",
   "mimetype": "text/x-python",
   "name": "python",
   "nbconvert_exporter": "python",
   "pygments_lexer": "ipython3",
   "version": "3.8.8"
  }
 },
 "nbformat": 4,
 "nbformat_minor": 5
}
