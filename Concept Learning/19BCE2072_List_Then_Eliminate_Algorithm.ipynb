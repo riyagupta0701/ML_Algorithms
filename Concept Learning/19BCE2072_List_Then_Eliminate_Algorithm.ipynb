{
 "cells": [
  {
   "cell_type": "code",
   "execution_count": 1,
   "id": "12d76b95",
   "metadata": {},
   "outputs": [],
   "source": [
    "import numpy as np \n",
    "import pandas as pd\n",
    "from itertools import product"
   ]
  },
  {
   "cell_type": "code",
   "execution_count": 2,
   "id": "4bb65236",
   "metadata": {},
   "outputs": [
    {
     "data": {
      "text/html": [
       "<div>\n",
       "<style scoped>\n",
       "    .dataframe tbody tr th:only-of-type {\n",
       "        vertical-align: middle;\n",
       "    }\n",
       "\n",
       "    .dataframe tbody tr th {\n",
       "        vertical-align: top;\n",
       "    }\n",
       "\n",
       "    .dataframe thead th {\n",
       "        text-align: right;\n",
       "    }\n",
       "</style>\n",
       "<table border=\"1\" class=\"dataframe\">\n",
       "  <thead>\n",
       "    <tr style=\"text-align: right;\">\n",
       "      <th></th>\n",
       "      <th>X1</th>\n",
       "      <th>X2</th>\n",
       "      <th>Target</th>\n",
       "    </tr>\n",
       "  </thead>\n",
       "  <tbody>\n",
       "    <tr>\n",
       "      <th>0</th>\n",
       "      <td>A</td>\n",
       "      <td>C</td>\n",
       "      <td>Yes</td>\n",
       "    </tr>\n",
       "    <tr>\n",
       "      <th>1</th>\n",
       "      <td>A</td>\n",
       "      <td>D</td>\n",
       "      <td>Yes</td>\n",
       "    </tr>\n",
       "  </tbody>\n",
       "</table>\n",
       "</div>"
      ],
      "text/plain": [
       "  X1 X2 Target\n",
       "0  A  C    Yes\n",
       "1  A  D    Yes"
      ]
     },
     "execution_count": 2,
     "metadata": {},
     "output_type": "execute_result"
    }
   ],
   "source": [
    "data = pd.read_csv('19BCE2072_Example2.csv')\n",
    "data"
   ]
  },
  {
   "cell_type": "code",
   "execution_count": 3,
   "id": "cd95ab4f",
   "metadata": {},
   "outputs": [
    {
     "name": "stdout",
     "output_type": "stream",
     "text": [
      "\n",
      "Instances are:\n",
      " [['A' 'C']\n",
      " ['A' 'D']]\n"
     ]
    }
   ],
   "source": [
    "instances = np.array(data.iloc[:,0:-1])\n",
    "print(\"\\nInstances are:\\n\",instances)"
   ]
  },
  {
   "cell_type": "code",
   "execution_count": 4,
   "id": "5dc8f71f",
   "metadata": {},
   "outputs": [
    {
     "name": "stdout",
     "output_type": "stream",
     "text": [
      "\n",
      "Target Values are:  ['Yes' 'Yes']\n"
     ]
    }
   ],
   "source": [
    "target = np.array(data.iloc[:,-1])\n",
    "print(\"\\nTarget Values are: \",target)"
   ]
  },
  {
   "cell_type": "code",
   "execution_count": 5,
   "id": "a93c0b37",
   "metadata": {},
   "outputs": [],
   "source": [
    "F1 = ['A','B']\n",
    "F2 = ['C','D']"
   ]
  },
  {
   "cell_type": "code",
   "execution_count": 6,
   "id": "e08115f1",
   "metadata": {},
   "outputs": [
    {
     "name": "stdout",
     "output_type": "stream",
     "text": [
      "['φ', 'φ']\n"
     ]
    }
   ],
   "source": [
    "specific_h = list(np.repeat('φ', len(F1)))\n",
    "print(specific_h)"
   ]
  },
  {
   "cell_type": "code",
   "execution_count": 7,
   "id": "4ca52084",
   "metadata": {},
   "outputs": [
    {
     "name": "stdout",
     "output_type": "stream",
     "text": [
      "['A', 'B', '?']\n",
      "['C', 'D', '?']\n"
     ]
    }
   ],
   "source": [
    "F1.append('?')\n",
    "F2.append('?')\n",
    "print(F1)\n",
    "print(F2)"
   ]
  },
  {
   "cell_type": "code",
   "execution_count": 8,
   "id": "512f0e65",
   "metadata": {},
   "outputs": [],
   "source": [
    "hypotheses = [list(h) for h in product(F1, F2)]\n",
    "hypotheses.append(specific_h)"
   ]
  },
  {
   "cell_type": "code",
   "execution_count": 9,
   "id": "8859b840",
   "metadata": {},
   "outputs": [],
   "source": [
    "def compare(x, y):\n",
    "    for i in range(2):\n",
    "        if x[i] == y[i] or y[i] == '?' or x[i] == '?':\n",
    "            continue\n",
    "        else:\n",
    "            return 'No'\n",
    "    return 'Yes'"
   ]
  },
  {
   "cell_type": "code",
   "execution_count": 10,
   "id": "3e98e5b0",
   "metadata": {},
   "outputs": [],
   "source": [
    "def train(c,t):\n",
    "    global version_space\n",
    "    for i, h in enumerate(hypotheses):\n",
    "        outcome = 1\n",
    "        for j, val in enumerate(c):\n",
    "            outcome = outcome and (t[j] == compare(hypotheses[i], val))  \n",
    "        if outcome == 1:\n",
    "            version_space.append(h)"
   ]
  },
  {
   "cell_type": "code",
   "execution_count": 11,
   "id": "0c7acc91",
   "metadata": {},
   "outputs": [
    {
     "name": "stdout",
     "output_type": "stream",
     "text": [
      "\n",
      "Semantically Distinct Hypotheses:  [['A', 'C'], ['A', 'D'], ['A', '?'], ['B', 'C'], ['B', 'D'], ['B', '?'], ['?', 'C'], ['?', 'D'], ['?', '?'], ['φ', 'φ']]\n"
     ]
    }
   ],
   "source": [
    "print(\"\\nSemantically Distinct Hypotheses: \", hypotheses)"
   ]
  },
  {
   "cell_type": "code",
   "execution_count": 12,
   "id": "6adf6bd2",
   "metadata": {},
   "outputs": [
    {
     "name": "stdout",
     "output_type": "stream",
     "text": [
      "\n",
      "Final Version Space:  [['A', '?'], ['?', '?']]\n"
     ]
    }
   ],
   "source": [
    "version_space = []\n",
    "train(instances, target)\n",
    "print('\\nFinal Version Space: ', version_space)"
   ]
  },
  {
   "cell_type": "code",
   "execution_count": null,
   "id": "b71fe3c7",
   "metadata": {},
   "outputs": [],
   "source": []
  }
 ],
 "metadata": {
  "kernelspec": {
   "display_name": "Python 3",
   "language": "python",
   "name": "python3"
  },
  "language_info": {
   "codemirror_mode": {
    "name": "ipython",
    "version": 3
   },
   "file_extension": ".py",
   "mimetype": "text/x-python",
   "name": "python",
   "nbconvert_exporter": "python",
   "pygments_lexer": "ipython3",
   "version": "3.8.8"
  }
 },
 "nbformat": 4,
 "nbformat_minor": 5
}
