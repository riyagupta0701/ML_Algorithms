{
 "cells": [
  {
   "cell_type": "markdown",
   "metadata": {},
   "source": [
    "1.\tImport the libraries\n",
    "2.\tImport the dataset\n",
    "3.\tPlot the data points\n",
    "4.\tSplit the data into dependent and independent variables\n",
    "5.\tFit the model\n",
    "6.\tFind the clusters for each data point\n",
    "7.\tCompute coordinates of the centroid of each cluster\n",
    "8.\tPlot the final graph with clusters and new point to be classified\n",
    "9.\tPerform the prediction/classification on the test data point"
   ]
  },
  {
   "cell_type": "code",
   "execution_count": 1,
   "metadata": {
    "id": "FBYzx9suc5y9"
   },
   "outputs": [],
   "source": [
    "#Import required libraries and packages\n",
    "import numpy as np\n",
    "import pandas as pd\n",
    "import statsmodels.api as sm\n",
    "import matplotlib.pyplot as plt\n",
    "import seaborn as sns\n",
    "from sklearn.cluster import KMeans\n",
    "import warnings\n",
    "warnings.filterwarnings('ignore')"
   ]
  },
  {
   "cell_type": "code",
   "execution_count": 2,
   "metadata": {
    "colab": {
     "base_uri": "https://localhost:8080/"
    },
    "id": "bI698g5ldBAs",
    "outputId": "bd248524-53d9-4c67-fe23-72065d142c85"
   },
   "outputs": [
    {
     "data": {
      "text/html": [
       "<div>\n",
       "<style scoped>\n",
       "    .dataframe tbody tr th:only-of-type {\n",
       "        vertical-align: middle;\n",
       "    }\n",
       "\n",
       "    .dataframe tbody tr th {\n",
       "        vertical-align: top;\n",
       "    }\n",
       "\n",
       "    .dataframe thead th {\n",
       "        text-align: right;\n",
       "    }\n",
       "</style>\n",
       "<table border=\"1\" class=\"dataframe\">\n",
       "  <thead>\n",
       "    <tr style=\"text-align: right;\">\n",
       "      <th></th>\n",
       "      <th>var1</th>\n",
       "      <th>var2</th>\n",
       "      <th>classVar</th>\n",
       "    </tr>\n",
       "  </thead>\n",
       "  <tbody>\n",
       "    <tr>\n",
       "      <th>0</th>\n",
       "      <td>1.713</td>\n",
       "      <td>1.586</td>\n",
       "      <td>0</td>\n",
       "    </tr>\n",
       "    <tr>\n",
       "      <th>1</th>\n",
       "      <td>0.180</td>\n",
       "      <td>1.786</td>\n",
       "      <td>1</td>\n",
       "    </tr>\n",
       "    <tr>\n",
       "      <th>2</th>\n",
       "      <td>0.353</td>\n",
       "      <td>1.240</td>\n",
       "      <td>1</td>\n",
       "    </tr>\n",
       "    <tr>\n",
       "      <th>3</th>\n",
       "      <td>0.940</td>\n",
       "      <td>1.566</td>\n",
       "      <td>0</td>\n",
       "    </tr>\n",
       "    <tr>\n",
       "      <th>4</th>\n",
       "      <td>1.486</td>\n",
       "      <td>0.759</td>\n",
       "      <td>1</td>\n",
       "    </tr>\n",
       "    <tr>\n",
       "      <th>5</th>\n",
       "      <td>1.266</td>\n",
       "      <td>1.106</td>\n",
       "      <td>0</td>\n",
       "    </tr>\n",
       "    <tr>\n",
       "      <th>6</th>\n",
       "      <td>1.540</td>\n",
       "      <td>0.419</td>\n",
       "      <td>1</td>\n",
       "    </tr>\n",
       "    <tr>\n",
       "      <th>7</th>\n",
       "      <td>0.459</td>\n",
       "      <td>1.799</td>\n",
       "      <td>1</td>\n",
       "    </tr>\n",
       "    <tr>\n",
       "      <th>8</th>\n",
       "      <td>0.773</td>\n",
       "      <td>0.186</td>\n",
       "      <td>1</td>\n",
       "    </tr>\n",
       "  </tbody>\n",
       "</table>\n",
       "</div>"
      ],
      "text/plain": [
       "    var1   var2  classVar\n",
       "0  1.713  1.586         0\n",
       "1  0.180  1.786         1\n",
       "2  0.353  1.240         1\n",
       "3  0.940  1.566         0\n",
       "4  1.486  0.759         1\n",
       "5  1.266  1.106         0\n",
       "6  1.540  0.419         1\n",
       "7  0.459  1.799         1\n",
       "8  0.773  0.186         1"
      ]
     },
     "execution_count": 2,
     "metadata": {},
     "output_type": "execute_result"
    }
   ],
   "source": [
    "#Read the dataset\n",
    "df = pd.read_csv(\"19BCE2072_datapoints.csv\")\n",
    "df"
   ]
  },
  {
   "cell_type": "code",
   "execution_count": 3,
   "metadata": {
    "colab": {
     "base_uri": "https://localhost:8080/",
     "height": 268
    },
    "id": "ivzzKm5lfvF_",
    "outputId": "a69f2630-2a5f-4454-fc97-aa611fb9fe6d"
   },
   "outputs": [
    {
     "data": {
      "image/png": "[encoded data removed]",
      "text/plain": [
       "<Figure size 432x288 with 1 Axes>"
      ]
     },
     "metadata": {
      "needs_background": "light"
     },
     "output_type": "display_data"
    }
   ],
   "source": [
    "#Plot the points\n",
    "plt.scatter(df['var1'],df['var2'])\n",
    "plt.show()"
   ]
  },
  {
   "cell_type": "code",
   "execution_count": 4,
   "metadata": {
    "id": "qzzbM1fOgFd2"
   },
   "outputs": [],
   "source": [
    "#Split the data into dependent and independent variables\n",
    "x = df.iloc[:,0:2] \n",
    "y= df.iloc[:-1]"
   ]
  },
  {
   "cell_type": "code",
   "execution_count": 5,
   "metadata": {
    "colab": {
     "base_uri": "https://localhost:8080/"
    },
    "id": "L_Y6lh47teO7",
    "outputId": "856bfe7e-9f8b-495c-86c1-3e159d2471a8"
   },
   "outputs": [
    {
     "data": {
      "text/plain": [
       "KMeans(n_clusters=3, random_state=10)"
      ]
     },
     "execution_count": 5,
     "metadata": {},
     "output_type": "execute_result"
    }
   ],
   "source": [
    "#Initialize and fit the K-Means Clustering Model\n",
    "kmeans = KMeans(3, random_state=10)\n",
    "kmeans.fit(x, y)"
   ]
  },
  {
   "cell_type": "code",
   "execution_count": 6,
   "metadata": {
    "id": "hV6EdB3Gh57D"
   },
   "outputs": [],
   "source": [
    "#Find out the clusters for each data point\n",
    "clusters = kmeans.fit_predict(x)\n",
    "updatedData = df.copy()\n",
    "updatedData['cluster'] = clusters "
   ]
  },
  {
   "cell_type": "code",
   "execution_count": 7,
   "metadata": {
    "colab": {
     "base_uri": "https://localhost:8080/"
    },
    "id": "K9T76qdOttFu",
    "outputId": "229d5389-5145-4ab2-e987-9bb6d8538ff1"
   },
   "outputs": [
    {
     "name": "stdout",
     "output_type": "stream",
     "text": [
      "    var1   var2  classVar  cluster\n",
      "0  1.713  1.586         0        2\n",
      "1  0.180  1.786         1        0\n",
      "2  0.353  1.240         1        0\n",
      "3  0.940  1.566         0        2\n",
      "4  1.486  0.759         1        1\n",
      "5  1.266  1.106         0        2\n",
      "6  1.540  0.419         1        1\n",
      "7  0.459  1.799         1        0\n",
      "8  0.773  0.186         1        1\n"
     ]
    }
   ],
   "source": [
    "print(updatedData)"
   ]
  },
  {
   "cell_type": "code",
   "execution_count": 8,
   "metadata": {
    "colab": {
     "base_uri": "https://localhost:8080/"
    },
    "id": "rJECWb2Nqp7v",
    "outputId": "c015d792-602c-4853-94a0-c4f87517f796"
   },
   "outputs": [
    {
     "name": "stdout",
     "output_type": "stream",
     "text": [
      "CENTROIDS\n",
      "             var1      var2\n",
      "cluster                    \n",
      "0        0.330667  1.608333\n",
      "1        1.266333  0.454667\n",
      "2        1.306333  1.419333\n"
     ]
    }
   ],
   "source": [
    "#Compute coordinates of the centroid of each cluster\n",
    "print(\"CENTROIDS\")\n",
    "centroids = updatedData.groupby('cluster')['var1', 'var2'].mean()\n",
    "print(centroids)"
   ]
  },
  {
   "cell_type": "code",
   "execution_count": 9,
   "metadata": {
    "colab": {
     "base_uri": "https://localhost:8080/",
     "height": 285
    },
    "id": "9r4EGVaQhwfB",
    "outputId": "5737bfff-4086-4e22-e498-12e5c0730961"
   },
   "outputs": [
    {
     "data": {
      "image/png": "[encoded data removed]",
      "text/plain": [
       "<Figure size 432x288 with 1 Axes>"
      ]
     },
     "metadata": {
      "needs_background": "light"
     },
     "output_type": "display_data"
    }
   ],
   "source": [
    "#Plot the final graph with clusters and new point to be classified\n",
    "plt.scatter(centroids['var1'], centroids['var2'], color='black', label='Centroids')\n",
    "plt.scatter(updatedData['var1'],updatedData['var2'],c=updatedData['cluster'],cmap='rainbow')\n",
    "plt.scatter(0.906, 0.606, color='orange', label='Test Point')\n",
    "plt.legend(framealpha=1, frameon=True);"
   ]
  },
  {
   "cell_type": "code",
   "execution_count": 10,
   "metadata": {
    "colab": {
     "base_uri": "https://localhost:8080/"
    },
    "id": "mME_mNaRii_A",
    "outputId": "4c08a664-3e5f-478a-b623-1eeb39b99017"
   },
   "outputs": [
    {
     "name": "stdout",
     "output_type": "stream",
     "text": [
      "Data point (0.906, 0.606) belongs to predicted class 1\n"
     ]
    }
   ],
   "source": [
    "#Perform the prediction/classfication on test data point\n",
    "result = kmeans.predict(np.array([0.906, 0.606]).reshape(1,-1))\n",
    "print(\"Data point (0.906, 0.606) belongs to predicted class\", result[0])"
   ]
  },
  {
   "cell_type": "code",
   "execution_count": null,
   "metadata": {},
   "outputs": [],
   "source": []
  }
 ],
 "metadata": {
  "colab": {
   "collapsed_sections": [],
   "name": "K-Means Clustering",
   "provenance": []
  },
  "kernelspec": {
   "display_name": "Python 3",
   "language": "python",
   "name": "python3"
  },
  "language_info": {
   "codemirror_mode": {
    "name": "ipython",
    "version": 3
   },
   "file_extension": ".py",
   "mimetype": "text/x-python",
   "name": "python",
   "nbconvert_exporter": "python",
   "pygments_lexer": "ipython3",
   "version": "3.8.8"
  }
 },
 "nbformat": 4,
 "nbformat_minor": 1
}
