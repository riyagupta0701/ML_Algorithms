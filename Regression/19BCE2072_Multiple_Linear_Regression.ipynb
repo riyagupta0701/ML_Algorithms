{
 "cells": [
  {
   "cell_type": "markdown",
   "id": "e83b5c6d",
   "metadata": {},
   "source": [
    "1)\tImport the required libraries\n",
    "2)\tInput the dataset\n",
    "3)\tDefine features and labels\n",
    "4)\tScale the dataset\n",
    "5)\tSeparate the dataset into training and testing\n",
    "6)\tCreate the cost and gradient function\n",
    "7)\tCalculate the weights and bias\n",
    "8)\tPlot the cost\n",
    "9)\tPredict labels with the calculated weights and biases\n",
    "10)\tMeasure how good the model is by calculating the R-squared value."
   ]
  },
  {
   "cell_type": "code",
   "execution_count": 1,
   "id": "40dc10dd",
   "metadata": {},
   "outputs": [],
   "source": [
    "#import necessary libraries\n",
    "import numpy as np\n",
    "import pandas as pd\n",
    "import matplotlib.pyplot as plt\n",
    "from sklearn.model_selection import train_test_split"
   ]
  },
  {
   "cell_type": "code",
   "execution_count": 2,
   "id": "4cbf3e30",
   "metadata": {},
   "outputs": [
    {
     "data": {
      "text/html": [
       "<div>\n",
       "<style scoped>\n",
       "    .dataframe tbody tr th:only-of-type {\n",
       "        vertical-align: middle;\n",
       "    }\n",
       "\n",
       "    .dataframe tbody tr th {\n",
       "        vertical-align: top;\n",
       "    }\n",
       "\n",
       "    .dataframe thead th {\n",
       "        text-align: right;\n",
       "    }\n",
       "</style>\n",
       "<table border=\"1\" class=\"dataframe\">\n",
       "  <thead>\n",
       "    <tr style=\"text-align: right;\">\n",
       "      <th></th>\n",
       "      <th>y</th>\n",
       "      <th>X1</th>\n",
       "      <th>X2</th>\n",
       "    </tr>\n",
       "  </thead>\n",
       "  <tbody>\n",
       "    <tr>\n",
       "      <th>0</th>\n",
       "      <td>140</td>\n",
       "      <td>60</td>\n",
       "      <td>22</td>\n",
       "    </tr>\n",
       "    <tr>\n",
       "      <th>1</th>\n",
       "      <td>155</td>\n",
       "      <td>62</td>\n",
       "      <td>25</td>\n",
       "    </tr>\n",
       "    <tr>\n",
       "      <th>2</th>\n",
       "      <td>159</td>\n",
       "      <td>67</td>\n",
       "      <td>24</td>\n",
       "    </tr>\n",
       "    <tr>\n",
       "      <th>3</th>\n",
       "      <td>179</td>\n",
       "      <td>70</td>\n",
       "      <td>20</td>\n",
       "    </tr>\n",
       "    <tr>\n",
       "      <th>4</th>\n",
       "      <td>192</td>\n",
       "      <td>71</td>\n",
       "      <td>15</td>\n",
       "    </tr>\n",
       "    <tr>\n",
       "      <th>5</th>\n",
       "      <td>200</td>\n",
       "      <td>72</td>\n",
       "      <td>14</td>\n",
       "    </tr>\n",
       "    <tr>\n",
       "      <th>6</th>\n",
       "      <td>212</td>\n",
       "      <td>75</td>\n",
       "      <td>14</td>\n",
       "    </tr>\n",
       "    <tr>\n",
       "      <th>7</th>\n",
       "      <td>215</td>\n",
       "      <td>78</td>\n",
       "      <td>11</td>\n",
       "    </tr>\n",
       "  </tbody>\n",
       "</table>\n",
       "</div>"
      ],
      "text/plain": [
       "     y  X1  X2\n",
       "0  140  60  22\n",
       "1  155  62  25\n",
       "2  159  67  24\n",
       "3  179  70  20\n",
       "4  192  71  15\n",
       "5  200  72  14\n",
       "6  212  75  14\n",
       "7  215  78  11"
      ]
     },
     "execution_count": 2,
     "metadata": {},
     "output_type": "execute_result"
    }
   ],
   "source": [
    "# input the dataset\n",
    "data = pd.read_csv('19BCE2072_Multiple_Linear_Regression_Data.csv')\n",
    "data"
   ]
  },
  {
   "cell_type": "code",
   "execution_count": 3,
   "id": "0386826b",
   "metadata": {},
   "outputs": [],
   "source": [
    "# split the dataset into x and y\n",
    "x = data.iloc[:,1:].values\n",
    "y = data.iloc[:,0].values"
   ]
  },
  {
   "cell_type": "code",
   "execution_count": 4,
   "id": "14f54f51",
   "metadata": {},
   "outputs": [
    {
     "data": {
      "text/plain": [
       "array([140, 155, 159, 179, 192, 200, 212, 215])"
      ]
     },
     "execution_count": 4,
     "metadata": {},
     "output_type": "execute_result"
    }
   ],
   "source": [
    "y"
   ]
  },
  {
   "cell_type": "code",
   "execution_count": 5,
   "id": "ad4c47f4",
   "metadata": {},
   "outputs": [],
   "source": [
    "# scale the dataset\n",
    "from sklearn.preprocessing import StandardScaler\n",
    "sc = StandardScaler()\n",
    "x = sc.fit_transform(x)"
   ]
  },
  {
   "cell_type": "code",
   "execution_count": 6,
   "id": "2fd10382",
   "metadata": {},
   "outputs": [
    {
     "data": {
      "text/plain": [
       "array([[-1.63236452,  0.78512469],\n",
       "       [-1.28412676,  1.39296316],\n",
       "       [-0.41353235,  1.19035034],\n",
       "       [ 0.1088243 ,  0.37989904],\n",
       "       [ 0.28294318, -0.63316507],\n",
       "       [ 0.45706207, -0.8357779 ],\n",
       "       [ 0.97941871, -0.8357779 ],\n",
       "       [ 1.50177536, -1.44361637]])"
      ]
     },
     "execution_count": 6,
     "metadata": {},
     "output_type": "execute_result"
    }
   ],
   "source": [
    "x"
   ]
  },
  {
   "cell_type": "code",
   "execution_count": 7,
   "id": "c780010c",
   "metadata": {},
   "outputs": [],
   "source": [
    "# separate the dataset into training and testing\n",
    "Xtrain, Xtest, Ytrain, Ytest = train_test_split( x, y, test_size = 0.3,random_state=42)"
   ]
  },
  {
   "cell_type": "code",
   "execution_count": 8,
   "id": "68258124",
   "metadata": {},
   "outputs": [],
   "source": [
    "# create the cost and gradient functions\n",
    "def CostFunction(x,y,w,b):\n",
    "    cost = np.sum((((x.dot(w) + b) - y) ** 2) / (2*len(y)))\n",
    "    return cost\n",
    "\n",
    "def GradientDescent(x, y, w, b, learning_rate, epochs):\n",
    "    cost_list = [0] * epochs\n",
    "   \n",
    "    for epoch in range(epochs):\n",
    "        z = x.dot(w) + b\n",
    "        loss = z - y\n",
    "        \n",
    "        weight_gradient = x.T.dot(loss) / len(y)\n",
    "        bias_gradient = np.sum(loss) / len(y)\n",
    "        \n",
    "        w = w - learning_rate*weight_gradient\n",
    "        b = b - learning_rate*bias_gradient\n",
    "  \n",
    "        cost = CostFunction(x, y, w, b)\n",
    "        cost_list[epoch] = cost\n",
    "        \n",
    "        if (epoch%(epochs/10)==0):\n",
    "            print(\"Cost at epoch\", epoch, \"is:\", cost)\n",
    "        \n",
    "    return w, b, cost_list"
   ]
  },
  {
   "cell_type": "code",
   "execution_count": 9,
   "id": "99b47244",
   "metadata": {},
   "outputs": [
    {
     "name": "stdout",
     "output_type": "stream",
     "text": [
      "Cost at epoch 0 is: 18429.29852980183\n",
      "Cost at epoch 2000 is: 49.89291684803794\n",
      "Cost at epoch 4000 is: 24.55572683300466\n",
      "Cost at epoch 6000 is: 20.378300676590666\n",
      "Cost at epoch 8000 is: 17.262212982973367\n",
      "Cost at epoch 10000 is: 14.906461747535754\n",
      "Cost at epoch 12000 is: 13.125432650091778\n",
      "Cost at epoch 14000 is: 11.778913037826989\n",
      "Cost at epoch 16000 is: 10.76089762747721\n",
      "Cost at epoch 18000 is: 9.991242758530152\n"
     ]
    }
   ],
   "source": [
    "# calculate the weights and bias\n",
    "w, b, c = GradientDescent(Xtrain, Ytrain, np.zeros(Xtrain.shape[1]), 0, 0.002,epochs=20000)"
   ]
  },
  {
   "cell_type": "code",
   "execution_count": 10,
   "id": "f84443e5",
   "metadata": {},
   "outputs": [
    {
     "data": {
      "text/plain": [
       "[<matplotlib.lines.Line2D at 0x7fbb92174b80>]"
      ]
     },
     "execution_count": 10,
     "metadata": {},
     "output_type": "execute_result"
    },
    {
     "data": {
      "image/png": "[encoded data removed]",
      "text/plain": [
       "<Figure size 432x288 with 1 Axes>"
      ]
     },
     "metadata": {
      "needs_background": "light"
     },
     "output_type": "display_data"
    }
   ],
   "source": [
    "# plot the cost\n",
    "plt.plot(c)"
   ]
  },
  {
   "cell_type": "code",
   "execution_count": 11,
   "id": "5f191b7b",
   "metadata": {},
   "outputs": [],
   "source": [
    "# predict labels with the calculated weights and biases\n",
    "def predict(X, w, b):\n",
    "    return X.dot(w) + b\n",
    "y_pred = predict(Xtest, w, b)"
   ]
  },
  {
   "cell_type": "code",
   "execution_count": 12,
   "id": "cb14d8a9",
   "metadata": {},
   "outputs": [
    {
     "name": "stdout",
     "output_type": "stream",
     "text": [
      "X = 141.25148385545117\n",
      "w = 194.3132973984051\n",
      "b = 137.63568876871602\n"
     ]
    }
   ],
   "source": [
    "print('w =', y_pred[1])\n",
    "print('b =', y_pred[2])"
   ]
  },
  {
   "cell_type": "code",
   "execution_count": 13,
   "id": "48729c79",
   "metadata": {},
   "outputs": [
    {
     "data": {
      "text/plain": [
       "0.8836152562798556"
      ]
     },
     "execution_count": 13,
     "metadata": {},
     "output_type": "execute_result"
    }
   ],
   "source": [
    "# calculating R-squared value for measuring goodness of our model\n",
    "def r2score(y_pred, y):\n",
    "    rss = np.sum((y_pred - y) ** 2)\n",
    "    tss = np.sum((y-y.mean()) ** 2)\n",
    "    \n",
    "    r2 = 1 - (rss / tss)\n",
    "    return r2\n",
    "r2score(y_pred, Ytest)"
   ]
  },
  {
   "cell_type": "code",
   "execution_count": null,
   "id": "002ff19b",
   "metadata": {},
   "outputs": [],
   "source": []
  }
 ],
 "metadata": {
  "kernelspec": {
   "display_name": "Python 3",
   "language": "python",
   "name": "python3"
  },
  "language_info": {
   "codemirror_mode": {
    "name": "ipython",
    "version": 3
   },
   "file_extension": ".py",
   "mimetype": "text/x-python",
   "name": "python",
   "nbconvert_exporter": "python",
   "pygments_lexer": "ipython3",
   "version": "3.8.8"
  }
 },
 "nbformat": 4,
 "nbformat_minor": 5
}
