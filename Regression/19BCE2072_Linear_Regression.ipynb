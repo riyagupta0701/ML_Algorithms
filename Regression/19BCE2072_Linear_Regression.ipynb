{
 "cells": [
  {
   "cell_type": "markdown",
   "id": "e93620e5",
   "metadata": {},
   "source": [
    "1)\tImport the required libraries\n",
    "2)\tInput the dataset\n",
    "3)\tSplit the dataset into X and Y columns\n",
    "4)\tFind the mean of the X and Y values\n",
    "5)\tCalculate m and c using the formula:\n",
    "a)\ty = c + m*x\n",
    "b)\t \n",
    "\n",
    "6)\tPlot the input data points and the regression line\n",
    "7)\tMeasure how good the model is by calculating the R-squared value.\n"
   ]
  },
  {
   "cell_type": "code",
   "execution_count": 1,
   "id": "5c37bc33",
   "metadata": {},
   "outputs": [],
   "source": [
    "# import necessary libraries\n",
    "import pandas as pd\n",
    "import numpy as np\n",
    "import math\n",
    "import operator\n",
    "import matplotlib.pyplot as plt\n",
    "%matplotlib inline"
   ]
  },
  {
   "cell_type": "code",
   "execution_count": 2,
   "id": "74c875a6",
   "metadata": {},
   "outputs": [
    {
     "data": {
      "text/html": [
       "<div>\n",
       "<style scoped>\n",
       "    .dataframe tbody tr th:only-of-type {\n",
       "        vertical-align: middle;\n",
       "    }\n",
       "\n",
       "    .dataframe tbody tr th {\n",
       "        vertical-align: top;\n",
       "    }\n",
       "\n",
       "    .dataframe thead th {\n",
       "        text-align: right;\n",
       "    }\n",
       "</style>\n",
       "<table border=\"1\" class=\"dataframe\">\n",
       "  <thead>\n",
       "    <tr style=\"text-align: right;\">\n",
       "      <th></th>\n",
       "      <th>Wheat_Production (X)</th>\n",
       "      <th>Flour_Price (Y)</th>\n",
       "    </tr>\n",
       "  </thead>\n",
       "  <tbody>\n",
       "    <tr>\n",
       "      <th>0</th>\n",
       "      <td>30</td>\n",
       "      <td>25</td>\n",
       "    </tr>\n",
       "    <tr>\n",
       "      <th>1</th>\n",
       "      <td>28</td>\n",
       "      <td>30</td>\n",
       "    </tr>\n",
       "    <tr>\n",
       "      <th>2</th>\n",
       "      <td>32</td>\n",
       "      <td>27</td>\n",
       "    </tr>\n",
       "    <tr>\n",
       "      <th>3</th>\n",
       "      <td>25</td>\n",
       "      <td>40</td>\n",
       "    </tr>\n",
       "    <tr>\n",
       "      <th>4</th>\n",
       "      <td>25</td>\n",
       "      <td>42</td>\n",
       "    </tr>\n",
       "    <tr>\n",
       "      <th>5</th>\n",
       "      <td>25</td>\n",
       "      <td>40</td>\n",
       "    </tr>\n",
       "    <tr>\n",
       "      <th>6</th>\n",
       "      <td>22</td>\n",
       "      <td>50</td>\n",
       "    </tr>\n",
       "    <tr>\n",
       "      <th>7</th>\n",
       "      <td>24</td>\n",
       "      <td>45</td>\n",
       "    </tr>\n",
       "    <tr>\n",
       "      <th>8</th>\n",
       "      <td>35</td>\n",
       "      <td>30</td>\n",
       "    </tr>\n",
       "    <tr>\n",
       "      <th>9</th>\n",
       "      <td>40</td>\n",
       "      <td>25</td>\n",
       "    </tr>\n",
       "  </tbody>\n",
       "</table>\n",
       "</div>"
      ],
      "text/plain": [
       "   Wheat_Production (X)  Flour_Price (Y)\n",
       "0                    30               25\n",
       "1                    28               30\n",
       "2                    32               27\n",
       "3                    25               40\n",
       "4                    25               42\n",
       "5                    25               40\n",
       "6                    22               50\n",
       "7                    24               45\n",
       "8                    35               30\n",
       "9                    40               25"
      ]
     },
     "execution_count": 2,
     "metadata": {},
     "output_type": "execute_result"
    }
   ],
   "source": [
    "# input the dataset\n",
    "data = pd.read_csv('19BCE2072_Linear_Regression_Data.csv')\n",
    "data"
   ]
  },
  {
   "cell_type": "code",
   "execution_count": 3,
   "id": "053d7774",
   "metadata": {},
   "outputs": [
    {
     "name": "stdout",
     "output_type": "stream",
     "text": [
      "Independent Variable, X =  [30 28 32 25 25 25 22 24 35 40]\n",
      "Dependent Variable, Y =  [25 30 27 40 42 40 50 45 30 25]\n"
     ]
    }
   ],
   "source": [
    "# collecting x & y\n",
    "X = data.iloc[:,0].values\n",
    "Y = data.iloc[:,1].values\n",
    "print('Independent Variable, X = ', X)\n",
    "print('Dependent Variable, Y = ', Y)"
   ]
  },
  {
   "cell_type": "code",
   "execution_count": 4,
   "id": "43b32635",
   "metadata": {},
   "outputs": [
    {
     "name": "stdout",
     "output_type": "stream",
     "text": [
      "Mean of X =  28.6\n",
      "Mean of Y =  35.4\n"
     ]
    }
   ],
   "source": [
    "# calculate mean of x & y\n",
    "mean_x = np.mean(X)\n",
    "mean_y = np.mean(Y)\n",
    "print('Mean of X = ', mean_x)\n",
    "print('Mean of Y = ', mean_y)"
   ]
  },
  {
   "cell_type": "code",
   "execution_count": 5,
   "id": "77d333aa",
   "metadata": {},
   "outputs": [
    {
     "name": "stdout",
     "output_type": "stream",
     "text": [
      "m = -1.3536754507628295 \n",
      "c = 74.11511789181692\n"
     ]
    }
   ],
   "source": [
    "# total no.of input values\n",
    "val_count = len(X)\n",
    "\n",
    "# using the formula to calculate m & c\n",
    "numerator = 0\n",
    "denominator = 0\n",
    "for i in range(val_count):\n",
    "    numerator += (X[i] - mean_x) * (Y[i] - mean_y)\n",
    "    denominator += (X[i] - mean_x) ** 2\n",
    "m = numerator / denominator\n",
    "c = mean_y - (m * mean_x)\n",
    "\n",
    "print (f'm = {m} \\nc = {c}')"
   ]
  },
  {
   "cell_type": "code",
   "execution_count": 6,
   "id": "8163ad48",
   "metadata": {},
   "outputs": [
    {
     "data": {
      "image/png": "[encoded data removed]",
      "text/plain": [
       "<Figure size 432x288 with 1 Axes>"
      ]
     },
     "metadata": {
      "needs_background": "light"
     },
     "output_type": "display_data"
    }
   ],
   "source": [
    "# calculating line values x and y\n",
    "x = X\n",
    "y = c + m * x\n",
    "\n",
    "plt.plot(x, y, color='green', label='Regression Line')\n",
    "plt.scatter(X, Y, color='red', label='Data Points')\n",
    "\n",
    "plt.xlabel('Independent Variable - X')\n",
    "plt.ylabel('Dependent Variable - Y')\n",
    "plt.legend()\n",
    "plt.show()"
   ]
  },
  {
   "cell_type": "code",
   "execution_count": 7,
   "id": "47676211",
   "metadata": {},
   "outputs": [
    {
     "name": "stdout",
     "output_type": "stream",
     "text": [
      "0.7176465181664974\n"
     ]
    }
   ],
   "source": [
    "# calculating R-squared value for measuring goodness of our model\n",
    "ss_t = 0 #total sum of squares\n",
    "ss_r = 0 #total sum of square of residuals\n",
    "\n",
    "for i in range(int(val_count)):\n",
    "    y_pred = c + m * X[i]\n",
    "    ss_t += (Y[i] - mean_y) ** 2\n",
    "    ss_r += (Y[i] - y_pred) ** 2\n",
    "r2 = 1 - (ss_r/ss_t)\n",
    "\n",
    "print(r2)"
   ]
  },
  {
   "cell_type": "code",
   "execution_count": null,
   "id": "3b38a336",
   "metadata": {},
   "outputs": [],
   "source": []
  }
 ],
 "metadata": {
  "kernelspec": {
   "display_name": "Python 3",
   "language": "python",
   "name": "python3"
  },
  "language_info": {
   "codemirror_mode": {
    "name": "ipython",
    "version": 3
   },
   "file_extension": ".py",
   "mimetype": "text/x-python",
   "name": "python",
   "nbconvert_exporter": "python",
   "pygments_lexer": "ipython3",
   "version": "3.8.8"
  }
 },
 "nbformat": 4,
 "nbformat_minor": 5
}
